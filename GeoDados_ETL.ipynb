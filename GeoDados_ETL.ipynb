{
 "cells": [
  {
   "cell_type": "code",
   "execution_count": 59,
   "metadata": {},
   "outputs": [],
   "source": [
    "import pandas as pd\n",
    "import warnings"
   ]
  },
  {
   "cell_type": "code",
   "execution_count": 60,
   "metadata": {},
   "outputs": [],
   "source": [
    "# configuração inicial\n",
    "warnings.filterwarnings(\"ignore\")\n",
    "warnings.filterwarnings('ignore', category=DeprecationWarning)\n",
    "\n",
    "pd.set_option('display.max_columns', None)\n",
    "pd.set_option('display.max_rows', None)\n",
    "pd.options.display.float_format = '{:.2f}'.format"
   ]
  },
  {
   "cell_type": "code",
   "execution_count": 61,
   "metadata": {},
   "outputs": [
    {
     "data": {
      "text/html": [
       "<div>\n",
       "<style scoped>\n",
       "    .dataframe tbody tr th:only-of-type {\n",
       "        vertical-align: middle;\n",
       "    }\n",
       "\n",
       "    .dataframe tbody tr th {\n",
       "        vertical-align: top;\n",
       "    }\n",
       "\n",
       "    .dataframe thead th {\n",
       "        text-align: right;\n",
       "    }\n",
       "</style>\n",
       "<table border=\"1\" class=\"dataframe\">\n",
       "  <thead>\n",
       "    <tr style=\"text-align: right;\">\n",
       "      <th></th>\n",
       "      <th>ISO-3166 alpha2</th>\n",
       "      <th>ISO-3166 alpha3</th>\n",
       "      <th>ISO-3166 numeric</th>\n",
       "      <th>fips</th>\n",
       "      <th>País (pt-BR)</th>\n",
       "      <th>País (en-US)</th>\n",
       "      <th>Capital</th>\n",
       "      <th>Area em km2</th>\n",
       "      <th>População</th>\n",
       "      <th>Continente</th>\n",
       "    </tr>\n",
       "  </thead>\n",
       "  <tbody>\n",
       "    <tr>\n",
       "      <th>0</th>\n",
       "      <td>AD</td>\n",
       "      <td>AND</td>\n",
       "      <td>20</td>\n",
       "      <td>AN</td>\n",
       "      <td>Andorra</td>\n",
       "      <td>Andorra</td>\n",
       "      <td>Andorra la Vella</td>\n",
       "      <td>468.00</td>\n",
       "      <td>77006</td>\n",
       "      <td>EU</td>\n",
       "    </tr>\n",
       "    <tr>\n",
       "      <th>1</th>\n",
       "      <td>AE</td>\n",
       "      <td>ARE</td>\n",
       "      <td>784</td>\n",
       "      <td>AE</td>\n",
       "      <td>Emirados Árabes Unidos</td>\n",
       "      <td>United Arab Emirates</td>\n",
       "      <td>Abu Dhabi</td>\n",
       "      <td>82880.00</td>\n",
       "      <td>9630959</td>\n",
       "      <td>AS</td>\n",
       "    </tr>\n",
       "    <tr>\n",
       "      <th>2</th>\n",
       "      <td>AF</td>\n",
       "      <td>AFG</td>\n",
       "      <td>4</td>\n",
       "      <td>AF</td>\n",
       "      <td>Afeganistão</td>\n",
       "      <td>Afghanistan</td>\n",
       "      <td>Kabul</td>\n",
       "      <td>647500.00</td>\n",
       "      <td>37172386</td>\n",
       "      <td>AS</td>\n",
       "    </tr>\n",
       "    <tr>\n",
       "      <th>3</th>\n",
       "      <td>AG</td>\n",
       "      <td>ATG</td>\n",
       "      <td>28</td>\n",
       "      <td>AC</td>\n",
       "      <td>Antígua e Barbuda</td>\n",
       "      <td>Antigua and Barbuda</td>\n",
       "      <td>St. John's</td>\n",
       "      <td>443.00</td>\n",
       "      <td>96286</td>\n",
       "      <td>NaN</td>\n",
       "    </tr>\n",
       "    <tr>\n",
       "      <th>4</th>\n",
       "      <td>AI</td>\n",
       "      <td>AIA</td>\n",
       "      <td>660</td>\n",
       "      <td>AV</td>\n",
       "      <td>Anguila</td>\n",
       "      <td>Anguilla</td>\n",
       "      <td>The Valley</td>\n",
       "      <td>102.00</td>\n",
       "      <td>13254</td>\n",
       "      <td>NaN</td>\n",
       "    </tr>\n",
       "  </tbody>\n",
       "</table>\n",
       "</div>"
      ],
      "text/plain": [
       "  ISO-3166 alpha2 ISO-3166 alpha3  ISO-3166 numeric fips  \\\n",
       "0              AD             AND                20   AN   \n",
       "1              AE             ARE               784   AE   \n",
       "2              AF             AFG                 4   AF   \n",
       "3              AG             ATG                28   AC   \n",
       "4              AI             AIA               660   AV   \n",
       "\n",
       "             País (pt-BR)          País (en-US)           Capital  \\\n",
       "0                 Andorra               Andorra  Andorra la Vella   \n",
       "1  Emirados Árabes Unidos  United Arab Emirates         Abu Dhabi   \n",
       "2             Afeganistão           Afghanistan             Kabul   \n",
       "3       Antígua e Barbuda   Antigua and Barbuda        St. John's   \n",
       "4                 Anguila              Anguilla        The Valley   \n",
       "\n",
       "   Area em km2  População Continente  \n",
       "0       468.00      77006         EU  \n",
       "1     82880.00    9630959         AS  \n",
       "2    647500.00   37172386         AS  \n",
       "3       443.00      96286        NaN  \n",
       "4       102.00      13254        NaN  "
      ]
     },
     "execution_count": 61,
     "metadata": {},
     "output_type": "execute_result"
    }
   ],
   "source": [
    "# importa os dados do arquivo GeoDados.xlsx\n",
    "df_ETL = pd.read_excel('GeoDados.xlsx')\n",
    "df_ETL.head()"
   ]
  },
  {
   "cell_type": "code",
   "execution_count": 62,
   "metadata": {},
   "outputs": [
    {
     "data": {
      "text/plain": [
       "Index(['ISO-3166 alpha2', 'ISO-3166 alpha3', 'ISO-3166 numeric', 'fips',\n",
       "       'País (pt-BR)', 'País (en-US)', 'Capital', 'Area em km2', 'População',\n",
       "       'Continente'],\n",
       "      dtype='object')"
      ]
     },
     "execution_count": 62,
     "metadata": {},
     "output_type": "execute_result"
    }
   ],
   "source": [
    "df_ETL.columns"
   ]
  },
  {
   "cell_type": "code",
   "execution_count": 63,
   "metadata": {},
   "outputs": [
    {
     "data": {
      "text/plain": [
       "250"
      ]
     },
     "execution_count": 63,
     "metadata": {},
     "output_type": "execute_result"
    }
   ],
   "source": [
    "# contando o número de linhas\n",
    "df_ETL[\"País (pt-BR)\"].count()"
   ]
  },
  {
   "cell_type": "code",
   "execution_count": 64,
   "metadata": {},
   "outputs": [
    {
     "data": {
      "text/html": [
       "<div>\n",
       "<style scoped>\n",
       "    .dataframe tbody tr th:only-of-type {\n",
       "        vertical-align: middle;\n",
       "    }\n",
       "\n",
       "    .dataframe tbody tr th {\n",
       "        vertical-align: top;\n",
       "    }\n",
       "\n",
       "    .dataframe thead th {\n",
       "        text-align: right;\n",
       "    }\n",
       "</style>\n",
       "<table border=\"1\" class=\"dataframe\">\n",
       "  <thead>\n",
       "    <tr style=\"text-align: right;\">\n",
       "      <th></th>\n",
       "      <th>ISO-3166 alpha2</th>\n",
       "      <th>ISO-3166 alpha3</th>\n",
       "      <th>País (pt-BR)</th>\n",
       "      <th>Capital</th>\n",
       "    </tr>\n",
       "  </thead>\n",
       "  <tbody>\n",
       "    <tr>\n",
       "      <th>0</th>\n",
       "      <td>AD</td>\n",
       "      <td>AND</td>\n",
       "      <td>Andorra</td>\n",
       "      <td>Andorra la Vella</td>\n",
       "    </tr>\n",
       "    <tr>\n",
       "      <th>1</th>\n",
       "      <td>AE</td>\n",
       "      <td>ARE</td>\n",
       "      <td>Emirados Árabes Unidos</td>\n",
       "      <td>Abu Dhabi</td>\n",
       "    </tr>\n",
       "    <tr>\n",
       "      <th>2</th>\n",
       "      <td>AF</td>\n",
       "      <td>AFG</td>\n",
       "      <td>Afeganistão</td>\n",
       "      <td>Kabul</td>\n",
       "    </tr>\n",
       "    <tr>\n",
       "      <th>3</th>\n",
       "      <td>AG</td>\n",
       "      <td>ATG</td>\n",
       "      <td>Antígua e Barbuda</td>\n",
       "      <td>St. John's</td>\n",
       "    </tr>\n",
       "    <tr>\n",
       "      <th>4</th>\n",
       "      <td>AI</td>\n",
       "      <td>AIA</td>\n",
       "      <td>Anguila</td>\n",
       "      <td>The Valley</td>\n",
       "    </tr>\n",
       "  </tbody>\n",
       "</table>\n",
       "</div>"
      ],
      "text/plain": [
       "  ISO-3166 alpha2 ISO-3166 alpha3            País (pt-BR)           Capital\n",
       "0              AD             AND                 Andorra  Andorra la Vella\n",
       "1              AE             ARE  Emirados Árabes Unidos         Abu Dhabi\n",
       "2              AF             AFG             Afeganistão             Kabul\n",
       "3              AG             ATG       Antígua e Barbuda        St. John's\n",
       "4              AI             AIA                 Anguila        The Valley"
      ]
     },
     "execution_count": 64,
     "metadata": {},
     "output_type": "execute_result"
    }
   ],
   "source": [
    "# Selecionando as colunas desejadas\n",
    "colunas_selecionadas = ['ISO-3166 alpha2', 'ISO-3166 alpha3', 'País (pt-BR)', 'Capital']\n",
    "novo_df = df_ETL[colunas_selecionadas]\n",
    "\n",
    "novo_df.head()\n"
   ]
  },
  {
   "cell_type": "code",
   "execution_count": 65,
   "metadata": {},
   "outputs": [
    {
     "data": {
      "text/plain": [
       "ISO-3166 alpha2    1\n",
       "ISO-3166 alpha3    0\n",
       "País (pt-BR)       0\n",
       "Capital            6\n",
       "dtype: int64"
      ]
     },
     "execution_count": 65,
     "metadata": {},
     "output_type": "execute_result"
    }
   ],
   "source": [
    "# verificando dados faltantes\n",
    "novo_df.isnull().sum()"
   ]
  },
  {
   "cell_type": "code",
   "execution_count": 66,
   "metadata": {},
   "outputs": [
    {
     "data": {
      "text/html": [
       "<div>\n",
       "<style scoped>\n",
       "    .dataframe tbody tr th:only-of-type {\n",
       "        vertical-align: middle;\n",
       "    }\n",
       "\n",
       "    .dataframe tbody tr th {\n",
       "        vertical-align: top;\n",
       "    }\n",
       "\n",
       "    .dataframe thead th {\n",
       "        text-align: right;\n",
       "    }\n",
       "</style>\n",
       "<table border=\"1\" class=\"dataframe\">\n",
       "  <thead>\n",
       "    <tr style=\"text-align: right;\">\n",
       "      <th></th>\n",
       "      <th>ISO-3166 alpha2</th>\n",
       "      <th>ISO-3166 alpha3</th>\n",
       "      <th>País (pt-BR)</th>\n",
       "      <th>Capital</th>\n",
       "    </tr>\n",
       "  </thead>\n",
       "  <tbody>\n",
       "    <tr>\n",
       "      <th>8</th>\n",
       "      <td>AQ</td>\n",
       "      <td>ATA</td>\n",
       "      <td>Antártica</td>\n",
       "      <td>NaN</td>\n",
       "    </tr>\n",
       "    <tr>\n",
       "      <th>29</th>\n",
       "      <td>BQ</td>\n",
       "      <td>BES</td>\n",
       "      <td>Bonaire, Santo Eustáquio e Saba</td>\n",
       "      <td>NaN</td>\n",
       "    </tr>\n",
       "    <tr>\n",
       "      <th>33</th>\n",
       "      <td>BV</td>\n",
       "      <td>BVT</td>\n",
       "      <td>Ilha Bouvet</td>\n",
       "      <td>NaN</td>\n",
       "    </tr>\n",
       "    <tr>\n",
       "      <th>95</th>\n",
       "      <td>HM</td>\n",
       "      <td>HMD</td>\n",
       "      <td>Ilhas Heard e McDonald</td>\n",
       "      <td>NaN</td>\n",
       "    </tr>\n",
       "    <tr>\n",
       "      <th>219</th>\n",
       "      <td>TK</td>\n",
       "      <td>TKL</td>\n",
       "      <td>Toquelau</td>\n",
       "      <td>NaN</td>\n",
       "    </tr>\n",
       "    <tr>\n",
       "      <th>231</th>\n",
       "      <td>UM</td>\n",
       "      <td>UMI</td>\n",
       "      <td>Ilhas Distantes dos EUA</td>\n",
       "      <td>NaN</td>\n",
       "    </tr>\n",
       "  </tbody>\n",
       "</table>\n",
       "</div>"
      ],
      "text/plain": [
       "    ISO-3166 alpha2 ISO-3166 alpha3                     País (pt-BR) Capital\n",
       "8                AQ             ATA                        Antártica     NaN\n",
       "29               BQ             BES  Bonaire, Santo Eustáquio e Saba     NaN\n",
       "33               BV             BVT                      Ilha Bouvet     NaN\n",
       "95               HM             HMD           Ilhas Heard e McDonald     NaN\n",
       "219              TK             TKL                         Toquelau     NaN\n",
       "231              UM             UMI          Ilhas Distantes dos EUA     NaN"
      ]
     },
     "execution_count": 66,
     "metadata": {},
     "output_type": "execute_result"
    }
   ],
   "source": [
    "# exibindo os dados faltantes\n",
    "novo_df[novo_df['Capital'].isnull()]"
   ]
  },
  {
   "cell_type": "code",
   "execution_count": 67,
   "metadata": {},
   "outputs": [
    {
     "data": {
      "text/html": [
       "<div>\n",
       "<style scoped>\n",
       "    .dataframe tbody tr th:only-of-type {\n",
       "        vertical-align: middle;\n",
       "    }\n",
       "\n",
       "    .dataframe tbody tr th {\n",
       "        vertical-align: top;\n",
       "    }\n",
       "\n",
       "    .dataframe thead th {\n",
       "        text-align: right;\n",
       "    }\n",
       "</style>\n",
       "<table border=\"1\" class=\"dataframe\">\n",
       "  <thead>\n",
       "    <tr style=\"text-align: right;\">\n",
       "      <th></th>\n",
       "      <th>ISO-3166 alpha2</th>\n",
       "      <th>ISO-3166 alpha3</th>\n",
       "      <th>País (pt-BR)</th>\n",
       "      <th>Capital</th>\n",
       "    </tr>\n",
       "  </thead>\n",
       "  <tbody>\n",
       "    <tr>\n",
       "      <th>159</th>\n",
       "      <td>NaN</td>\n",
       "      <td>NAM</td>\n",
       "      <td>Namíbia</td>\n",
       "      <td>Windhoek</td>\n",
       "    </tr>\n",
       "  </tbody>\n",
       "</table>\n",
       "</div>"
      ],
      "text/plain": [
       "    ISO-3166 alpha2 ISO-3166 alpha3 País (pt-BR)   Capital\n",
       "159             NaN             NAM      Namíbia  Windhoek"
      ]
     },
     "execution_count": 67,
     "metadata": {},
     "output_type": "execute_result"
    }
   ],
   "source": [
    "novo_df[novo_df['ISO-3166 alpha2'].isnull()]"
   ]
  },
  {
   "cell_type": "code",
   "execution_count": 68,
   "metadata": {},
   "outputs": [],
   "source": [
    "# Preenchendo capitais faltantes com o nome do país\n",
    "novo_df['Capital'] = novo_df.apply(\n",
    "    lambda row: row['País (pt-BR)'] if pd.isna(row['Capital']) else row['Capital'], axis=1\n",
    ")"
   ]
  },
  {
   "cell_type": "code",
   "execution_count": 69,
   "metadata": {},
   "outputs": [
    {
     "data": {
      "text/html": [
       "<div>\n",
       "<style scoped>\n",
       "    .dataframe tbody tr th:only-of-type {\n",
       "        vertical-align: middle;\n",
       "    }\n",
       "\n",
       "    .dataframe tbody tr th {\n",
       "        vertical-align: top;\n",
       "    }\n",
       "\n",
       "    .dataframe thead th {\n",
       "        text-align: right;\n",
       "    }\n",
       "</style>\n",
       "<table border=\"1\" class=\"dataframe\">\n",
       "  <thead>\n",
       "    <tr style=\"text-align: right;\">\n",
       "      <th></th>\n",
       "      <th>ISO-3166 alpha2</th>\n",
       "      <th>ISO-3166 alpha3</th>\n",
       "      <th>País (pt-BR)</th>\n",
       "      <th>Capital</th>\n",
       "    </tr>\n",
       "  </thead>\n",
       "  <tbody>\n",
       "    <tr>\n",
       "      <th>0</th>\n",
       "      <td>AD</td>\n",
       "      <td>AND</td>\n",
       "      <td>Andorra</td>\n",
       "      <td>Andorra la Vella</td>\n",
       "    </tr>\n",
       "    <tr>\n",
       "      <th>1</th>\n",
       "      <td>AE</td>\n",
       "      <td>ARE</td>\n",
       "      <td>Emirados Árabes Unidos</td>\n",
       "      <td>Abu Dhabi</td>\n",
       "    </tr>\n",
       "    <tr>\n",
       "      <th>2</th>\n",
       "      <td>AF</td>\n",
       "      <td>AFG</td>\n",
       "      <td>Afeganistão</td>\n",
       "      <td>Kabul</td>\n",
       "    </tr>\n",
       "    <tr>\n",
       "      <th>3</th>\n",
       "      <td>AG</td>\n",
       "      <td>ATG</td>\n",
       "      <td>Antígua e Barbuda</td>\n",
       "      <td>St. John's</td>\n",
       "    </tr>\n",
       "    <tr>\n",
       "      <th>4</th>\n",
       "      <td>AI</td>\n",
       "      <td>AIA</td>\n",
       "      <td>Anguila</td>\n",
       "      <td>The Valley</td>\n",
       "    </tr>\n",
       "  </tbody>\n",
       "</table>\n",
       "</div>"
      ],
      "text/plain": [
       "  ISO-3166 alpha2 ISO-3166 alpha3            País (pt-BR)           Capital\n",
       "0              AD             AND                 Andorra  Andorra la Vella\n",
       "1              AE             ARE  Emirados Árabes Unidos         Abu Dhabi\n",
       "2              AF             AFG             Afeganistão             Kabul\n",
       "3              AG             ATG       Antígua e Barbuda        St. John's\n",
       "4              AI             AIA                 Anguila        The Valley"
      ]
     },
     "execution_count": 69,
     "metadata": {},
     "output_type": "execute_result"
    }
   ],
   "source": [
    "# exibindo os dados faltantes\n",
    "novo_df.head()"
   ]
  },
  {
   "cell_type": "code",
   "execution_count": 70,
   "metadata": {},
   "outputs": [
    {
     "data": {
      "text/html": [
       "<div>\n",
       "<style scoped>\n",
       "    .dataframe tbody tr th:only-of-type {\n",
       "        vertical-align: middle;\n",
       "    }\n",
       "\n",
       "    .dataframe tbody tr th {\n",
       "        vertical-align: top;\n",
       "    }\n",
       "\n",
       "    .dataframe thead th {\n",
       "        text-align: right;\n",
       "    }\n",
       "</style>\n",
       "<table border=\"1\" class=\"dataframe\">\n",
       "  <thead>\n",
       "    <tr style=\"text-align: right;\">\n",
       "      <th></th>\n",
       "      <th>ISO-3166 alpha2</th>\n",
       "      <th>ISO-3166 alpha3</th>\n",
       "      <th>País (pt-BR)</th>\n",
       "      <th>Capital</th>\n",
       "    </tr>\n",
       "  </thead>\n",
       "  <tbody>\n",
       "  </tbody>\n",
       "</table>\n",
       "</div>"
      ],
      "text/plain": [
       "Empty DataFrame\n",
       "Columns: [ISO-3166 alpha2, ISO-3166 alpha3, País (pt-BR), Capital]\n",
       "Index: []"
      ]
     },
     "execution_count": 70,
     "metadata": {},
     "output_type": "execute_result"
    }
   ],
   "source": [
    "novo_df[novo_df['Capital'].isnull()]"
   ]
  },
  {
   "cell_type": "code",
   "execution_count": 71,
   "metadata": {},
   "outputs": [],
   "source": [
    "# Corrigindo o valor NaN na coluna 'ISO-3166 alpha2' para o país 'Namíbia'\n",
    "novo_df.loc[novo_df['País (pt-BR)'] == 'Namíbia', 'ISO-3166 alpha2'] = 'NA'"
   ]
  },
  {
   "cell_type": "code",
   "execution_count": 72,
   "metadata": {},
   "outputs": [
    {
     "name": "stdout",
     "output_type": "stream",
     "text": [
      "    ISO-3166 alpha2 ISO-3166 alpha3 País (pt-BR)   Capital\n",
      "159              NA             NAM      Namíbia  Windhoek\n"
     ]
    }
   ],
   "source": [
    "print(novo_df[novo_df['País (pt-BR)'] == 'Namíbia'])"
   ]
  },
  {
   "cell_type": "code",
   "execution_count": 73,
   "metadata": {},
   "outputs": [
    {
     "data": {
      "text/html": [
       "<div>\n",
       "<style scoped>\n",
       "    .dataframe tbody tr th:only-of-type {\n",
       "        vertical-align: middle;\n",
       "    }\n",
       "\n",
       "    .dataframe tbody tr th {\n",
       "        vertical-align: top;\n",
       "    }\n",
       "\n",
       "    .dataframe thead th {\n",
       "        text-align: right;\n",
       "    }\n",
       "</style>\n",
       "<table border=\"1\" class=\"dataframe\">\n",
       "  <thead>\n",
       "    <tr style=\"text-align: right;\">\n",
       "      <th></th>\n",
       "      <th>ISO-3166 alpha2</th>\n",
       "      <th>ISO-3166 alpha3</th>\n",
       "      <th>País (pt-BR)</th>\n",
       "      <th>Capital</th>\n",
       "    </tr>\n",
       "  </thead>\n",
       "  <tbody>\n",
       "  </tbody>\n",
       "</table>\n",
       "</div>"
      ],
      "text/plain": [
       "Empty DataFrame\n",
       "Columns: [ISO-3166 alpha2, ISO-3166 alpha3, País (pt-BR), Capital]\n",
       "Index: []"
      ]
     },
     "execution_count": 73,
     "metadata": {},
     "output_type": "execute_result"
    }
   ],
   "source": [
    "novo_df[novo_df['ISO-3166 alpha2'].isnull()]"
   ]
  },
  {
   "cell_type": "code",
   "execution_count": 74,
   "metadata": {},
   "outputs": [
    {
     "data": {
      "text/html": [
       "<div>\n",
       "<style scoped>\n",
       "    .dataframe tbody tr th:only-of-type {\n",
       "        vertical-align: middle;\n",
       "    }\n",
       "\n",
       "    .dataframe tbody tr th {\n",
       "        vertical-align: top;\n",
       "    }\n",
       "\n",
       "    .dataframe thead th {\n",
       "        text-align: right;\n",
       "    }\n",
       "</style>\n",
       "<table border=\"1\" class=\"dataframe\">\n",
       "  <thead>\n",
       "    <tr style=\"text-align: right;\">\n",
       "      <th></th>\n",
       "      <th>ISO-3166 alpha2</th>\n",
       "      <th>ISO-3166 alpha3</th>\n",
       "      <th>País (pt-BR)</th>\n",
       "      <th>Capital</th>\n",
       "    </tr>\n",
       "  </thead>\n",
       "  <tbody>\n",
       "    <tr>\n",
       "      <th>186</th>\n",
       "      <td>QA</td>\n",
       "      <td>QAT</td>\n",
       "      <td>Catar</td>\n",
       "      <td>Doha</td>\n",
       "    </tr>\n",
       "    <tr>\n",
       "      <th>82</th>\n",
       "      <td>GI</td>\n",
       "      <td>GIB</td>\n",
       "      <td>Gibraltar</td>\n",
       "      <td>Gibraltar</td>\n",
       "    </tr>\n",
       "    <tr>\n",
       "      <th>232</th>\n",
       "      <td>US</td>\n",
       "      <td>USA</td>\n",
       "      <td>Estados Unidos</td>\n",
       "      <td>Washington</td>\n",
       "    </tr>\n",
       "    <tr>\n",
       "      <th>154</th>\n",
       "      <td>MV</td>\n",
       "      <td>MDV</td>\n",
       "      <td>Maldivas</td>\n",
       "      <td>Male</td>\n",
       "    </tr>\n",
       "    <tr>\n",
       "      <th>146</th>\n",
       "      <td>MN</td>\n",
       "      <td>MNG</td>\n",
       "      <td>Mongólia</td>\n",
       "      <td>Ulaanbaatar</td>\n",
       "    </tr>\n",
       "  </tbody>\n",
       "</table>\n",
       "</div>"
      ],
      "text/plain": [
       "    ISO-3166 alpha2 ISO-3166 alpha3    País (pt-BR)      Capital\n",
       "186              QA             QAT           Catar         Doha\n",
       "82               GI             GIB       Gibraltar    Gibraltar\n",
       "232              US             USA  Estados Unidos   Washington\n",
       "154              MV             MDV        Maldivas         Male\n",
       "146              MN             MNG        Mongólia  Ulaanbaatar"
      ]
     },
     "execution_count": 74,
     "metadata": {},
     "output_type": "execute_result"
    }
   ],
   "source": [
    "novo_df.sample(5)"
   ]
  },
  {
   "cell_type": "code",
   "execution_count": 75,
   "metadata": {},
   "outputs": [
    {
     "data": {
      "text/html": [
       "<div>\n",
       "<style scoped>\n",
       "    .dataframe tbody tr th:only-of-type {\n",
       "        vertical-align: middle;\n",
       "    }\n",
       "\n",
       "    .dataframe tbody tr th {\n",
       "        vertical-align: top;\n",
       "    }\n",
       "\n",
       "    .dataframe thead th {\n",
       "        text-align: right;\n",
       "    }\n",
       "</style>\n",
       "<table border=\"1\" class=\"dataframe\">\n",
       "  <thead>\n",
       "    <tr style=\"text-align: right;\">\n",
       "      <th></th>\n",
       "      <th>ISO-3166 alpha2</th>\n",
       "      <th>ISO-3166 alpha3</th>\n",
       "      <th>País (pt-BR)</th>\n",
       "      <th>Capital</th>\n",
       "      <th>URL Bandeira</th>\n",
       "    </tr>\n",
       "  </thead>\n",
       "  <tbody>\n",
       "    <tr>\n",
       "      <th>0</th>\n",
       "      <td>AD</td>\n",
       "      <td>AND</td>\n",
       "      <td>Andorra</td>\n",
       "      <td>Andorra la Vella</td>\n",
       "      <td>http://www.geonames.org/flags/x/ad.gif</td>\n",
       "    </tr>\n",
       "    <tr>\n",
       "      <th>1</th>\n",
       "      <td>AE</td>\n",
       "      <td>ARE</td>\n",
       "      <td>Emirados Árabes Unidos</td>\n",
       "      <td>Abu Dhabi</td>\n",
       "      <td>http://www.geonames.org/flags/x/ae.gif</td>\n",
       "    </tr>\n",
       "    <tr>\n",
       "      <th>2</th>\n",
       "      <td>AF</td>\n",
       "      <td>AFG</td>\n",
       "      <td>Afeganistão</td>\n",
       "      <td>Kabul</td>\n",
       "      <td>http://www.geonames.org/flags/x/af.gif</td>\n",
       "    </tr>\n",
       "    <tr>\n",
       "      <th>3</th>\n",
       "      <td>AG</td>\n",
       "      <td>ATG</td>\n",
       "      <td>Antígua e Barbuda</td>\n",
       "      <td>St. John's</td>\n",
       "      <td>http://www.geonames.org/flags/x/ag.gif</td>\n",
       "    </tr>\n",
       "    <tr>\n",
       "      <th>4</th>\n",
       "      <td>AI</td>\n",
       "      <td>AIA</td>\n",
       "      <td>Anguila</td>\n",
       "      <td>The Valley</td>\n",
       "      <td>http://www.geonames.org/flags/x/ai.gif</td>\n",
       "    </tr>\n",
       "  </tbody>\n",
       "</table>\n",
       "</div>"
      ],
      "text/plain": [
       "  ISO-3166 alpha2 ISO-3166 alpha3            País (pt-BR)           Capital  \\\n",
       "0              AD             AND                 Andorra  Andorra la Vella   \n",
       "1              AE             ARE  Emirados Árabes Unidos         Abu Dhabi   \n",
       "2              AF             AFG             Afeganistão             Kabul   \n",
       "3              AG             ATG       Antígua e Barbuda        St. John's   \n",
       "4              AI             AIA                 Anguila        The Valley   \n",
       "\n",
       "                             URL Bandeira  \n",
       "0  http://www.geonames.org/flags/x/ad.gif  \n",
       "1  http://www.geonames.org/flags/x/ae.gif  \n",
       "2  http://www.geonames.org/flags/x/af.gif  \n",
       "3  http://www.geonames.org/flags/x/ag.gif  \n",
       "4  http://www.geonames.org/flags/x/ai.gif  "
      ]
     },
     "metadata": {},
     "output_type": "display_data"
    }
   ],
   "source": [
    "# Função para gerar a URL da bandeira\n",
    "def gerar_url_bandeira(alpha2):\n",
    "    base_url = 'http://www.geonames.org/flags/x/'\n",
    "    return f\"{base_url}{alpha2.lower()}.gif\"\n",
    "\n",
    "# Adicionando a coluna de URLs das bandeiras\n",
    "novo_df['URL Bandeira'] = novo_df['ISO-3166 alpha2'].apply(gerar_url_bandeira)\n",
    "\n",
    "# Exibindo o DataFrame atualizado com as URLs das bandeiras\n",
    "display(novo_df.head())"
   ]
  },
  {
   "cell_type": "code",
   "execution_count": 76,
   "metadata": {},
   "outputs": [
    {
     "data": {
      "text/plain": [
       "ISO-3166 alpha2    0\n",
       "ISO-3166 alpha3    0\n",
       "País (pt-BR)       0\n",
       "Capital            0\n",
       "URL Bandeira       0\n",
       "dtype: int64"
      ]
     },
     "execution_count": 76,
     "metadata": {},
     "output_type": "execute_result"
    }
   ],
   "source": [
    "# verificando dados faltantes\n",
    "novo_df.isnull().sum()"
   ]
  },
  {
   "cell_type": "code",
   "execution_count": 77,
   "metadata": {},
   "outputs": [],
   "source": [
    "# salvando o DataFrame em um arquivo do Excel\n",
    "novo_df.to_excel('GeoDados_flags.xlsx', index=False)"
   ]
  }
 ],
 "metadata": {
  "kernelspec": {
   "display_name": ".venv",
   "language": "python",
   "name": "python3"
  },
  "language_info": {
   "codemirror_mode": {
    "name": "ipython",
    "version": 3
   },
   "file_extension": ".py",
   "mimetype": "text/x-python",
   "name": "python",
   "nbconvert_exporter": "python",
   "pygments_lexer": "ipython3",
   "version": "3.11.5"
  }
 },
 "nbformat": 4,
 "nbformat_minor": 2
}
